{
 "cells": [
  {
   "cell_type": "markdown",
   "metadata": {},
   "source": [
    "## World Happiness ##\n",
    "The World Happiness Report is a landmark survey of the state of global happiness. "
   ]
  },
  {
   "cell_type": "code",
   "execution_count": 1,
   "metadata": {},
   "outputs": [],
   "source": [
    "import pandas as pd\n",
    "import numpy as np\n",
    "np.set_printoptions(precision=3, suppress=True)\n",
    "pd.options.display.float_format = '${:,.3f}'.format"
   ]
  },
  {
   "cell_type": "markdown",
   "metadata": {},
   "source": [
    "Read in data as Pandas data frame"
   ]
  },
  {
   "cell_type": "code",
   "execution_count": 2,
   "metadata": {},
   "outputs": [],
   "source": [
    "df = pd.read_csv('happiness_2017.csv')"
   ]
  },
  {
   "cell_type": "code",
   "execution_count": 3,
   "metadata": {},
   "outputs": [
    {
     "output_type": "execute_result",
     "data": {
      "text/plain": "       Country          Region  Rank  HappinessScore  Life Ladder  \\\n0       Norway  Western Europe     1          $7.537       $7.579   \n1      Denmark  Western Europe     2          $7.522       $7.594   \n2      Iceland  Western Europe     3          $7.504       $7.476   \n3  Switzerland  Western Europe     4          $7.494       $7.474   \n4      Finland  Western Europe     5          $7.469       $7.788   \n\n   Log GDP per capita  Social support  Healthy life expectancy at birth  \\\n0             $11.082          $0.950                           $71.087   \n1             $10.749          $0.952                           $71.662   \n2             $10.760          $0.967                           $72.756   \n3             $10.956          $0.950                           $73.174   \n4             $10.612          $0.964                           $71.697   \n\n   Freedom to make life choices  Generosity  Perceptions of corruption  \\\n0                        $0.953      $0.210                     $0.250   \n1                        $0.955      $0.145                     $0.181   \n2                        $0.939      $0.235                     $0.727   \n3                        $0.925      $0.168                     $0.316   \n4                        $0.962     $-0.012                     $0.192   \n\n   Positive affect  Negative affect  Confidence in national government  \n0           $0.849           $0.203                             $0.717  \n1           $0.824           $0.206                             $0.572  \n2           $0.895           $0.148                             $0.365  \n3           $0.774           $0.196                             $0.820  \n4           $0.787           $0.176                             $0.598  ",
      "text/html": "<div>\n<style scoped>\n    .dataframe tbody tr th:only-of-type {\n        vertical-align: middle;\n    }\n\n    .dataframe tbody tr th {\n        vertical-align: top;\n    }\n\n    .dataframe thead th {\n        text-align: right;\n    }\n</style>\n<table border=\"1\" class=\"dataframe\">\n  <thead>\n    <tr style=\"text-align: right;\">\n      <th></th>\n      <th>Country</th>\n      <th>Region</th>\n      <th>Rank</th>\n      <th>HappinessScore</th>\n      <th>Life Ladder</th>\n      <th>Log GDP per capita</th>\n      <th>Social support</th>\n      <th>Healthy life expectancy at birth</th>\n      <th>Freedom to make life choices</th>\n      <th>Generosity</th>\n      <th>Perceptions of corruption</th>\n      <th>Positive affect</th>\n      <th>Negative affect</th>\n      <th>Confidence in national government</th>\n    </tr>\n  </thead>\n  <tbody>\n    <tr>\n      <th>0</th>\n      <td>Norway</td>\n      <td>Western Europe</td>\n      <td>1</td>\n      <td>$7.537</td>\n      <td>$7.579</td>\n      <td>$11.082</td>\n      <td>$0.950</td>\n      <td>$71.087</td>\n      <td>$0.953</td>\n      <td>$0.210</td>\n      <td>$0.250</td>\n      <td>$0.849</td>\n      <td>$0.203</td>\n      <td>$0.717</td>\n    </tr>\n    <tr>\n      <th>1</th>\n      <td>Denmark</td>\n      <td>Western Europe</td>\n      <td>2</td>\n      <td>$7.522</td>\n      <td>$7.594</td>\n      <td>$10.749</td>\n      <td>$0.952</td>\n      <td>$71.662</td>\n      <td>$0.955</td>\n      <td>$0.145</td>\n      <td>$0.181</td>\n      <td>$0.824</td>\n      <td>$0.206</td>\n      <td>$0.572</td>\n    </tr>\n    <tr>\n      <th>2</th>\n      <td>Iceland</td>\n      <td>Western Europe</td>\n      <td>3</td>\n      <td>$7.504</td>\n      <td>$7.476</td>\n      <td>$10.760</td>\n      <td>$0.967</td>\n      <td>$72.756</td>\n      <td>$0.939</td>\n      <td>$0.235</td>\n      <td>$0.727</td>\n      <td>$0.895</td>\n      <td>$0.148</td>\n      <td>$0.365</td>\n    </tr>\n    <tr>\n      <th>3</th>\n      <td>Switzerland</td>\n      <td>Western Europe</td>\n      <td>4</td>\n      <td>$7.494</td>\n      <td>$7.474</td>\n      <td>$10.956</td>\n      <td>$0.950</td>\n      <td>$73.174</td>\n      <td>$0.925</td>\n      <td>$0.168</td>\n      <td>$0.316</td>\n      <td>$0.774</td>\n      <td>$0.196</td>\n      <td>$0.820</td>\n    </tr>\n    <tr>\n      <th>4</th>\n      <td>Finland</td>\n      <td>Western Europe</td>\n      <td>5</td>\n      <td>$7.469</td>\n      <td>$7.788</td>\n      <td>$10.612</td>\n      <td>$0.964</td>\n      <td>$71.697</td>\n      <td>$0.962</td>\n      <td>$-0.012</td>\n      <td>$0.192</td>\n      <td>$0.787</td>\n      <td>$0.176</td>\n      <td>$0.598</td>\n    </tr>\n  </tbody>\n</table>\n</div>"
     },
     "metadata": {},
     "execution_count": 3
    }
   ],
   "source": [
    "df.head()"
   ]
  },
  {
   "cell_type": "code",
   "execution_count": 4,
   "metadata": {
    "tags": []
   },
   "outputs": [
    {
     "output_type": "stream",
     "name": "stdout",
     "text": "<class 'pandas.core.frame.DataFrame'>\nRangeIndex: 140 entries, 0 to 139\nData columns (total 14 columns):\n #   Column                             Non-Null Count  Dtype  \n---  ------                             --------------  -----  \n 0   Country                            140 non-null    object \n 1   Region                             140 non-null    object \n 2   Rank                               140 non-null    int64  \n 3   HappinessScore                     140 non-null    float64\n 4   Life Ladder                        140 non-null    float64\n 5   Log GDP per capita                 133 non-null    float64\n 6   Social support                     139 non-null    float64\n 7   Healthy life expectancy at birth   140 non-null    float64\n 8   Freedom to make life choices       139 non-null    float64\n 9   Generosity                         132 non-null    float64\n 10  Perceptions of corruption          128 non-null    float64\n 11  Positive affect                    139 non-null    float64\n 12  Negative affect                    139 non-null    float64\n 13  Confidence in national government  127 non-null    float64\ndtypes: float64(11), int64(1), object(2)\nmemory usage: 15.4+ KB\n"
    }
   ],
   "source": [
    "df.info()"
   ]
  },
  {
   "cell_type": "code",
   "execution_count": 5,
   "metadata": {},
   "outputs": [
    {
     "output_type": "execute_result",
     "data": {
      "text/plain": "(140, 14)"
     },
     "metadata": {},
     "execution_count": 5
    }
   ],
   "source": [
    "df.shape"
   ]
  },
  {
   "cell_type": "code",
   "execution_count": 6,
   "metadata": {},
   "outputs": [
    {
     "output_type": "execute_result",
     "data": {
      "text/plain": "Index(['Country', 'Region', 'Rank', 'HappinessScore', 'Life Ladder',\n       'Log GDP per capita', 'Social support',\n       'Healthy life expectancy at birth', 'Freedom to make life choices',\n       'Generosity', 'Perceptions of corruption', 'Positive affect',\n       'Negative affect', 'Confidence in national government'],\n      dtype='object')"
     },
     "metadata": {},
     "execution_count": 6
    }
   ],
   "source": [
    "df.columns"
   ]
  },
  {
   "cell_type": "code",
   "execution_count": 7,
   "metadata": {},
   "outputs": [
    {
     "output_type": "execute_result",
     "data": {
      "text/plain": "14"
     },
     "metadata": {},
     "execution_count": 7
    }
   ],
   "source": [
    "df.columns.size"
   ]
  },
  {
   "cell_type": "code",
   "execution_count": 8,
   "metadata": {},
   "outputs": [
    {
     "output_type": "execute_result",
     "data": {
      "text/plain": "RangeIndex(start=0, stop=140, step=1)"
     },
     "metadata": {},
     "execution_count": 8
    }
   ],
   "source": [
    "df.index"
   ]
  },
  {
   "cell_type": "code",
   "execution_count": 9,
   "metadata": {},
   "outputs": [
    {
     "output_type": "execute_result",
     "data": {
      "text/plain": "Country                               0\nRegion                                0\nRank                                  0\nHappinessScore                        0\nLife Ladder                           0\nLog GDP per capita                    7\nSocial support                        1\nHealthy life expectancy at birth      0\nFreedom to make life choices          1\nGenerosity                            8\nPerceptions of corruption            12\nPositive affect                       1\nNegative affect                       1\nConfidence in national government    13\ndtype: int64"
     },
     "metadata": {},
     "execution_count": 9
    }
   ],
   "source": [
    "df.isnull().sum()"
   ]
  },
  {
   "cell_type": "code",
   "execution_count": null,
   "metadata": {},
   "outputs": [],
   "source": [
    "df.hist(edgecolor = 'white', figsize = (20,16))"
   ]
  },
  {
   "cell_type": "code",
   "execution_count": 10,
   "metadata": {},
   "outputs": [
    {
     "output_type": "execute_result",
     "data": {
      "text/plain": "7.537000000000001"
     },
     "metadata": {},
     "execution_count": 10
    }
   ],
   "source": [
    "max_value = df[\"HappinessScore\"].max()\n",
    "max_value"
   ]
  },
  {
   "cell_type": "code",
   "execution_count": 11,
   "metadata": {},
   "outputs": [
    {
     "output_type": "execute_result",
     "data": {
      "text/plain": "2"
     },
     "metadata": {},
     "execution_count": 11
    }
   ],
   "source": [
    "max_index = df[\"Social support\"].idxmax()\n",
    "max_index"
   ]
  },
  {
   "cell_type": "code",
   "execution_count": 12,
   "metadata": {},
   "outputs": [
    {
     "output_type": "execute_result",
     "data": {
      "text/plain": "'Iceland'"
     },
     "metadata": {},
     "execution_count": 12
    }
   ],
   "source": [
    "df['Country'][max_index]"
   ]
  },
  {
   "cell_type": "code",
   "execution_count": 13,
   "metadata": {},
   "outputs": [],
   "source": [
    "pd_p = pd.pivot_table(df, index=[\"Region\"], values=[\"Rank\", \"HappinessScore\"], aggfunc={\"Rank\":np.min, \"HappinessScore\":np.max})"
   ]
  },
  {
   "cell_type": "code",
   "execution_count": 21,
   "metadata": {},
   "outputs": [
    {
     "output_type": "execute_result",
     "data": {
      "text/plain": "                                    HappinessScore  Rank  \\\nRegion                                                     \nCentral and Eastern Europe                  $6.609    22   \nCommonwealth of Independent States          $5.971    44   \nEast Asia                                   $6.422    32   \nLatin America and Caribbean                 $7.079    11   \nMiddle East and North Africa                $7.213    10   \nNorth America and ANZ                       $7.314     7   \nSouth Asia                                  $5.269    74   \nSoutheast Asia                              $6.572    25   \nSub-Saharan Africa                          $5.629    59   \nWestern Europe                              $7.537     1   \n\n                                                best_country  \nRegion                                                        \nCentral and Eastern Europe                    Czech Republic  \nCommonwealth of Independent States                Uzbekistan  \nEast Asia                           Taiwan Province of China  \nLatin America and Caribbean                       Costa Rica  \nMiddle East and North Africa                          Israel  \nNorth America and ANZ                            New Zealand  \nSouth Asia                                          Pakistan  \nSoutheast Asia                                     Singapore  \nSub-Saharan Africa                                 Mauritius  \nWestern Europe                                        Norway  ",
      "text/html": "<div>\n<style scoped>\n    .dataframe tbody tr th:only-of-type {\n        vertical-align: middle;\n    }\n\n    .dataframe tbody tr th {\n        vertical-align: top;\n    }\n\n    .dataframe thead th {\n        text-align: right;\n    }\n</style>\n<table border=\"1\" class=\"dataframe\">\n  <thead>\n    <tr style=\"text-align: right;\">\n      <th></th>\n      <th>HappinessScore</th>\n      <th>Rank</th>\n      <th>best_country</th>\n    </tr>\n    <tr>\n      <th>Region</th>\n      <th></th>\n      <th></th>\n      <th></th>\n    </tr>\n  </thead>\n  <tbody>\n    <tr>\n      <th>Central and Eastern Europe</th>\n      <td>$6.609</td>\n      <td>22</td>\n      <td>Czech Republic</td>\n    </tr>\n    <tr>\n      <th>Commonwealth of Independent States</th>\n      <td>$5.971</td>\n      <td>44</td>\n      <td>Uzbekistan</td>\n    </tr>\n    <tr>\n      <th>East Asia</th>\n      <td>$6.422</td>\n      <td>32</td>\n      <td>Taiwan Province of China</td>\n    </tr>\n    <tr>\n      <th>Latin America and Caribbean</th>\n      <td>$7.079</td>\n      <td>11</td>\n      <td>Costa Rica</td>\n    </tr>\n    <tr>\n      <th>Middle East and North Africa</th>\n      <td>$7.213</td>\n      <td>10</td>\n      <td>Israel</td>\n    </tr>\n    <tr>\n      <th>North America and ANZ</th>\n      <td>$7.314</td>\n      <td>7</td>\n      <td>New Zealand</td>\n    </tr>\n    <tr>\n      <th>South Asia</th>\n      <td>$5.269</td>\n      <td>74</td>\n      <td>Pakistan</td>\n    </tr>\n    <tr>\n      <th>Southeast Asia</th>\n      <td>$6.572</td>\n      <td>25</td>\n      <td>Singapore</td>\n    </tr>\n    <tr>\n      <th>Sub-Saharan Africa</th>\n      <td>$5.629</td>\n      <td>59</td>\n      <td>Mauritius</td>\n    </tr>\n    <tr>\n      <th>Western Europe</th>\n      <td>$7.537</td>\n      <td>1</td>\n      <td>Norway</td>\n    </tr>\n  </tbody>\n</table>\n</div>"
     },
     "metadata": {},
     "execution_count": 21
    }
   ],
   "source": [
    "pd_p"
   ]
  }
 ],
 "metadata": {
  "kernelspec": {
   "display_name": "Python 3.8.3 64-bit ('anaconda3': conda)",
   "language": "python",
   "name": "python38364bitanaconda3condae4b46212289f43d1a5c25550b9f3d802"
  },
  "language_info": {
   "codemirror_mode": {
    "name": "ipython",
    "version": 3
   },
   "file_extension": ".py",
   "mimetype": "text/x-python",
   "name": "python",
   "nbconvert_exporter": "python",
   "pygments_lexer": "ipython3",
   "version": "3.8.3-final"
  }
 },
 "nbformat": 4,
 "nbformat_minor": 4
}